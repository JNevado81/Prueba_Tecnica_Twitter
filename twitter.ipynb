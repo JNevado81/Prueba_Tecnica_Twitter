{
 "cells": [
  {
   "attachments": {},
   "cell_type": "markdown",
   "metadata": {},
   "source": [
    "http://apptwitter-env.eba-dbici4gv.us-east-2.elasticbeanstalk.com/tweets?a%C3%B1o=2023"
   ]
  },
  {
   "cell_type": "code",
   "execution_count": 1,
   "metadata": {},
   "outputs": [
    {
     "name": "stderr",
     "output_type": "stream",
     "text": [
      "[nltk_data] Downloading package punkt to\n",
      "[nltk_data]     C:\\Users\\JI\\AppData\\Roaming\\nltk_data...\n",
      "[nltk_data]   Package punkt is already up-to-date!\n",
      "[nltk_data] Downloading package stopwords to\n",
      "[nltk_data]     C:\\Users\\JI\\AppData\\Roaming\\nltk_data...\n",
      "[nltk_data]   Package stopwords is already up-to-date!\n",
      "c:\\Users\\JI\\AppData\\Local\\Programs\\Python\\Python37\\lib\\site-packages\\ipykernel_launcher.py:21: FutureWarning: The demoji.download_codes attribute is deprecated and will be removed from demoji in a future version. It is an unused attribute as emoji codes are now distributed directly with the demoji package.\n"
     ]
    }
   ],
   "source": [
    "import pandas as pd\n",
    "import json\n",
    "import pymysql\n",
    "\n",
    "import seaborn as sns\n",
    "import matplotlib.pyplot as plt\n",
    "%matplotlib inline\n",
    "\n",
    "import re\n",
    "\n",
    "import nltk\n",
    "nltk.download('punkt')\n",
    "nltk.download('stopwords')\n",
    "\n",
    "from nltk.corpus import stopwords\n",
    "from nltk.tokenize import word_tokenize\n",
    "from collections import Counter\n",
    "from nltk.stem.snowball import SnowballStemmer\n",
    "\n",
    "import demoji\n",
    "demoji.download_codes()\n",
    "\n",
    "import pickle\n",
    "\n",
    "import warnings\n",
    "warnings.filterwarnings('ignore')"
   ]
  },
  {
   "attachments": {},
   "cell_type": "markdown",
   "metadata": {},
   "source": [
    "## Cargamos tweets_2022"
   ]
  },
  {
   "cell_type": "code",
   "execution_count": 2,
   "metadata": {},
   "outputs": [],
   "source": [
    "# 60 filas\n",
    "\n",
    "with open('data/tweets_2022.json') as file:\n",
    "    data_22 = json.load(file)\n",
    "\n",
    "# Tweets\n",
    "df_22 = pd.DataFrame(data_22['data'])\n",
    "\n",
    "df_22[\"author_id\"] = df_22[\"author_id\"].astype(str)\n",
    "df_22[\"created_at\"] = pd.to_datetime(df_22[\"created_at\"])\n",
    "df_22[\"id\"] = df_22[\"id\"].astype(str)\n",
    "df_22[\"text\"] = df_22[\"text\"].astype(str)\n",
    "df_22[\"impression_count\"] = df_22[\"public_metrics\"].apply(lambda x: x[\"impression_count\"])\n",
    "df_22[\"like_count\"] = df_22[\"public_metrics\"].apply(lambda x: x[\"like_count\"])\n",
    "df_22[\"quote_count\"] = df_22[\"public_metrics\"].apply(lambda x: x[\"quote_count\"])\n",
    "df_22[\"reply_count\"] = df_22[\"public_metrics\"].apply(lambda x: x[\"reply_count\"])\n",
    "df_22[\"retweet_count\"] = df_22[\"public_metrics\"].apply(lambda x: x[\"retweet_count\"])\n",
    "\n",
    "df_22.drop(columns=[\"public_metrics\"], inplace=True)\n",
    "df_22_t = df_22\n",
    "\n",
    "# Usuarios\n",
    "df_22_u = pd.DataFrame(data_22['includes']['users'])\n",
    "\n",
    "df_22 = df_22.merge(df_22_u, left_on='author_id', right_on='id')\n",
    "\n",
    "df_22.drop(columns=['id_y', 'edit_history_tweet_ids'], inplace=True)\n",
    "\n",
    "df_22.rename(columns={'id_x':'id_message'}, inplace=True)\n",
    "\n",
    "df_22 = df_22[['id_message', 'text', 'created_at', 'author_id', 'name', 'username', 'retweet_count', 'reply_count', 'like_count', 'quote_count', 'impression_count']]"
   ]
  },
  {
   "attachments": {},
   "cell_type": "markdown",
   "metadata": {},
   "source": [
    "## Cargamos tweets_2023"
   ]
  },
  {
   "cell_type": "code",
   "execution_count": 3,
   "metadata": {},
   "outputs": [],
   "source": [
    "# 89\n",
    "\n",
    "with open('data/tweets_2023.json') as file:\n",
    "    data_23 = json.load(file)\n",
    "\n",
    "# Tweets\n",
    "df_23 = pd.DataFrame(data_23['data'])\n",
    "\n",
    "df_23[\"author_id\"] = df_23[\"author_id\"].astype(str)\n",
    "df_23[\"created_at\"] = pd.to_datetime(df_23[\"created_at\"])\n",
    "df_23[\"id\"] = df_23[\"id\"].astype(str)\n",
    "df_23[\"text\"] = df_23[\"text\"].astype(str)\n",
    "df_23[\"impression_count\"] = df_23[\"public_metrics\"].apply(lambda x: x[\"impression_count\"])\n",
    "df_23[\"like_count\"] = df_23[\"public_metrics\"].apply(lambda x: x[\"like_count\"])\n",
    "df_23[\"quote_count\"] = df_23[\"public_metrics\"].apply(lambda x: x[\"quote_count\"])\n",
    "df_23[\"reply_count\"] = df_23[\"public_metrics\"].apply(lambda x: x[\"reply_count\"])\n",
    "df_23[\"retweet_count\"] = df_23[\"public_metrics\"].apply(lambda x: x[\"retweet_count\"])\n",
    "\n",
    "df_23.drop(columns=[\"public_metrics\"], inplace=True)\n",
    "df_23_t = df_23\n",
    "\n",
    "# Usuarios\n",
    "df_23_u = pd.DataFrame(data_23['includes']['users'])\n",
    "\n",
    "df_23 = df_23.merge(df_23_u, left_on='author_id', right_on='id')\n",
    "\n",
    "df_23.drop(columns=['id_y', 'edit_history_tweet_ids'], inplace=True)\n",
    "\n",
    "df_23.rename(columns={'id_x':'id_message'}, inplace=True)\n",
    "\n",
    "df_23 = df_23[['id_message', 'text', 'created_at', 'author_id', 'name', 'username', 'retweet_count', 'reply_count', 'like_count', 'quote_count', 'impression_count']]"
   ]
  },
  {
   "attachments": {},
   "cell_type": "markdown",
   "metadata": {},
   "source": [
    "## Validamos rango de fechas"
   ]
  },
  {
   "cell_type": "code",
   "execution_count": 4,
   "metadata": {},
   "outputs": [
    {
     "name": "stdout",
     "output_type": "stream",
     "text": [
      "Filas 2022: 60\n",
      "Filas 2023: 89\n",
      "\n",
      "Min 2022: 2022-11-22 08:01:31+00:00\n",
      "Max 2022: 2022-12-29 16:39:19+00:00\n",
      "\n",
      "Min 2023: 2023-01-02 15:15:00+00:00\n",
      "Max 2023: 2023-03-07 17:16:14+00:00\n"
     ]
    }
   ],
   "source": [
    "print(\"Filas 2022:\",len(df_22))\n",
    "print(\"Filas 2023:\",len(df_23))\n",
    "print()\n",
    "print('Min 2022:', df_22['created_at'].min())\n",
    "print('Max 2022:', df_22['created_at'].max())\n",
    "print()\n",
    "print('Min 2023:', df_23['created_at'].min())\n",
    "print('Max 2023:', df_23['created_at'].max())"
   ]
  },
  {
   "attachments": {},
   "cell_type": "markdown",
   "metadata": {},
   "source": [
    "## Unimos 2022 y 2023"
   ]
  },
  {
   "cell_type": "code",
   "execution_count": 5,
   "metadata": {},
   "outputs": [
    {
     "data": {
      "text/plain": [
       "149"
      ]
     },
     "execution_count": 5,
     "metadata": {},
     "output_type": "execute_result"
    }
   ],
   "source": [
    "df = pd.concat([df_22, df_23])\n",
    "len(df)"
   ]
  },
  {
   "cell_type": "code",
   "execution_count": 6,
   "metadata": {},
   "outputs": [
    {
     "name": "stdout",
     "output_type": "stream",
     "text": [
      "<class 'pandas.core.frame.DataFrame'>\n",
      "Int64Index: 149 entries, 0 to 88\n",
      "Data columns (total 11 columns):\n",
      " #   Column            Non-Null Count  Dtype              \n",
      "---  ------            --------------  -----              \n",
      " 0   id_message        149 non-null    object             \n",
      " 1   text              149 non-null    object             \n",
      " 2   created_at        149 non-null    datetime64[ns, UTC]\n",
      " 3   author_id         149 non-null    object             \n",
      " 4   name              149 non-null    object             \n",
      " 5   username          149 non-null    object             \n",
      " 6   retweet_count     149 non-null    int64              \n",
      " 7   reply_count       149 non-null    int64              \n",
      " 8   like_count        149 non-null    int64              \n",
      " 9   quote_count       149 non-null    int64              \n",
      " 10  impression_count  149 non-null    int64              \n",
      "dtypes: datetime64[ns, UTC](1), int64(5), object(5)\n",
      "memory usage: 14.0+ KB\n"
     ]
    }
   ],
   "source": [
    "df.info()"
   ]
  },
  {
   "cell_type": "code",
   "execution_count": 7,
   "metadata": {},
   "outputs": [
    {
     "data": {
      "text/html": [
       "<div>\n",
       "<style scoped>\n",
       "    .dataframe tbody tr th:only-of-type {\n",
       "        vertical-align: middle;\n",
       "    }\n",
       "\n",
       "    .dataframe tbody tr th {\n",
       "        vertical-align: top;\n",
       "    }\n",
       "\n",
       "    .dataframe thead th {\n",
       "        text-align: right;\n",
       "    }\n",
       "</style>\n",
       "<table border=\"1\" class=\"dataframe\">\n",
       "  <thead>\n",
       "    <tr style=\"text-align: right;\">\n",
       "      <th></th>\n",
       "      <th>retweet_count</th>\n",
       "      <th>reply_count</th>\n",
       "      <th>like_count</th>\n",
       "      <th>quote_count</th>\n",
       "      <th>impression_count</th>\n",
       "    </tr>\n",
       "  </thead>\n",
       "  <tbody>\n",
       "    <tr>\n",
       "      <th>count</th>\n",
       "      <td>149.000000</td>\n",
       "      <td>149.000000</td>\n",
       "      <td>149.000000</td>\n",
       "      <td>149.000000</td>\n",
       "      <td>149.000000</td>\n",
       "    </tr>\n",
       "    <tr>\n",
       "      <th>mean</th>\n",
       "      <td>1.563758</td>\n",
       "      <td>0.295302</td>\n",
       "      <td>5.449664</td>\n",
       "      <td>0.167785</td>\n",
       "      <td>1732.617450</td>\n",
       "    </tr>\n",
       "    <tr>\n",
       "      <th>std</th>\n",
       "      <td>4.236779</td>\n",
       "      <td>0.775498</td>\n",
       "      <td>26.302923</td>\n",
       "      <td>0.537797</td>\n",
       "      <td>18487.232284</td>\n",
       "    </tr>\n",
       "    <tr>\n",
       "      <th>min</th>\n",
       "      <td>0.000000</td>\n",
       "      <td>0.000000</td>\n",
       "      <td>0.000000</td>\n",
       "      <td>0.000000</td>\n",
       "      <td>0.000000</td>\n",
       "    </tr>\n",
       "    <tr>\n",
       "      <th>25%</th>\n",
       "      <td>0.000000</td>\n",
       "      <td>0.000000</td>\n",
       "      <td>1.000000</td>\n",
       "      <td>0.000000</td>\n",
       "      <td>0.000000</td>\n",
       "    </tr>\n",
       "    <tr>\n",
       "      <th>50%</th>\n",
       "      <td>1.000000</td>\n",
       "      <td>0.000000</td>\n",
       "      <td>3.000000</td>\n",
       "      <td>0.000000</td>\n",
       "      <td>58.000000</td>\n",
       "    </tr>\n",
       "    <tr>\n",
       "      <th>75%</th>\n",
       "      <td>2.000000</td>\n",
       "      <td>0.000000</td>\n",
       "      <td>4.000000</td>\n",
       "      <td>0.000000</td>\n",
       "      <td>218.000000</td>\n",
       "    </tr>\n",
       "    <tr>\n",
       "      <th>max</th>\n",
       "      <td>49.000000</td>\n",
       "      <td>7.000000</td>\n",
       "      <td>321.000000</td>\n",
       "      <td>4.000000</td>\n",
       "      <td>225761.000000</td>\n",
       "    </tr>\n",
       "  </tbody>\n",
       "</table>\n",
       "</div>"
      ],
      "text/plain": [
       "       retweet_count  reply_count  like_count  quote_count  impression_count\n",
       "count     149.000000   149.000000  149.000000   149.000000        149.000000\n",
       "mean        1.563758     0.295302    5.449664     0.167785       1732.617450\n",
       "std         4.236779     0.775498   26.302923     0.537797      18487.232284\n",
       "min         0.000000     0.000000    0.000000     0.000000          0.000000\n",
       "25%         0.000000     0.000000    1.000000     0.000000          0.000000\n",
       "50%         1.000000     0.000000    3.000000     0.000000         58.000000\n",
       "75%         2.000000     0.000000    4.000000     0.000000        218.000000\n",
       "max        49.000000     7.000000  321.000000     4.000000     225761.000000"
      ]
     },
     "execution_count": 7,
     "metadata": {},
     "output_type": "execute_result"
    }
   ],
   "source": [
    "df.describe()"
   ]
  },
  {
   "cell_type": "code",
   "execution_count": 8,
   "metadata": {},
   "outputs": [
    {
     "data": {
      "text/plain": [
       "276"
      ]
     },
     "execution_count": 8,
     "metadata": {},
     "output_type": "execute_result"
    }
   ],
   "source": [
    "len(df['text'].max())"
   ]
  },
  {
   "attachments": {},
   "cell_type": "markdown",
   "metadata": {},
   "source": [
    "## Creación BBDD SQL"
   ]
  },
  {
   "attachments": {},
   "cell_type": "markdown",
   "metadata": {},
   "source": [
    "### Parámetros de conexión"
   ]
  },
  {
   "cell_type": "code",
   "execution_count": 9,
   "metadata": {},
   "outputs": [],
   "source": [
    "username_bbdd = \"admin\"\n",
    "password = <password>\n",
    "host = <host>\n",
    "port = 3306\n",
    "database=\"tweets_bbdd\""
   ]
  },
  {
   "attachments": {},
   "cell_type": "markdown",
   "metadata": {},
   "source": [
    "### Creamos database y tablas"
   ]
  },
  {
   "cell_type": "code",
   "execution_count": 26,
   "metadata": {},
   "outputs": [],
   "source": [
    "db = pymysql.connect(host = host,\n",
    "                    user = username_bbdd,\n",
    "                    password = password,\n",
    "                    port = port,\n",
    "                    cursorclass = pymysql.cursors.DictCursor)\n",
    "\n",
    "cursor = db.cursor()\n",
    "\n",
    "#Create database\n",
    "create_db = '''CREATE DATABASE tweets_bbdd'''\n",
    "cursor.execute(create_db)\n",
    "cursor.connection.commit()\n",
    "\n",
    "#Select database and create table\n",
    "use_db = ''' USE tweets_bbdd'''\n",
    "cursor.execute(use_db)\n",
    "\n",
    "# CREATE ALTER\n",
    "create_table = '''\n",
    "CREATE TABLE tweets (\n",
    "    id_message VARCHAR(20) NOT NULL,\n",
    "    text  VARCHAR(500),\n",
    "    created_at VARCHAR(30),\n",
    "    author_id  VARCHAR(20),\n",
    "    retweet_count INT,\n",
    "    reply_count INT,\n",
    "    like_count INT,\n",
    "    quote_count INT,\n",
    "    impression_count INT,\n",
    "    primary key (id_message)\n",
    ")\n",
    "'''\n",
    "cursor.execute(create_table)\n",
    "db.commit()\n",
    "\n",
    "create_table = '''\n",
    "CREATE TABLE users_tweet (\n",
    "    author_id  VARCHAR(20) NOT NULL,\n",
    "    name  VARCHAR(20),\n",
    "    username  VARCHAR(20),\n",
    "    primary key (author_id)\n",
    ")\n",
    "'''\n",
    "cursor.execute(create_table)\n",
    "\n",
    "db.commit()\n",
    "db.close()"
   ]
  },
  {
   "attachments": {},
   "cell_type": "markdown",
   "metadata": {},
   "source": [
    "### Creamos función para realizar los INSERT"
   ]
  },
  {
   "cell_type": "code",
   "execution_count": 144,
   "metadata": {},
   "outputs": [],
   "source": [
    "def insert_db(id_message, text, created_at, author_id, name, username, retweet_count, reply_count, like_count, quote_count, impression_count):\n",
    "    db = pymysql.connect(host = host,\n",
    "                        user = username_bbdd,\n",
    "                        password = password,\n",
    "                        port = port,\n",
    "                        database = database,\n",
    "                        cursorclass = pymysql.cursors.DictCursor\n",
    "                        )\n",
    "\n",
    "    cursor = db.cursor()\n",
    "    \n",
    "    insert_data = '''\n",
    "    INSERT INTO tweets (id_message, texto, created_at, author_id, retweet_count, reply_count, like_count, quote_count, impression_count)\n",
    "    VALUES ('%s', '%s', '%s', '%s', '%s', '%s', '%s', '%s', '%s')\n",
    "    ''' % (id_message, text, created_at, author_id, retweet_count, reply_count, like_count, quote_count, impression_count)\n",
    "\n",
    "    cursor.execute(insert_data)\n",
    "    db.commit()\n",
    "\n",
    "    insert_data = '''\n",
    "    INSERT INTO users_tweet (author_id, name, username)\n",
    "    VALUES ('%s', '%s', '%s')\n",
    "    ''' % (author_id, name, username)\n",
    "\n",
    "    cursor.execute(insert_data)\n",
    "    db.commit()\n",
    "\n",
    "    db.close()"
   ]
  },
  {
   "attachments": {},
   "cell_type": "markdown",
   "metadata": {},
   "source": [
    "### Eliminamos base de datos"
   ]
  },
  {
   "cell_type": "code",
   "execution_count": 25,
   "metadata": {},
   "outputs": [],
   "source": [
    "db = pymysql.connect(host = host,\n",
    "                    user = username_bbdd,\n",
    "                    password = password,\n",
    "                    port = port,\n",
    "                    database = database,\n",
    "                    cursorclass = pymysql.cursors.DictCursor)\n",
    "\n",
    "cursor = db.cursor()\n",
    "\n",
    "insert_data = '''DROP TABLE tweets'''\n",
    "cursor.execute(insert_data)\n",
    "# db.commit()\n",
    "\n",
    "insert_data = '''DROP TABLE users_tweet'''\n",
    "cursor.execute(insert_data)\n",
    "# db.commit()\n",
    "\n",
    "insert_data = '''DROP DATABASE tweets_bbdd'''\n",
    "cursor.execute(insert_data)\n",
    "db.commit()\n",
    "\n",
    "db.close()"
   ]
  },
  {
   "attachments": {},
   "cell_type": "markdown",
   "metadata": {},
   "source": [
    "### Eliminamos contenido de las tablas"
   ]
  },
  {
   "cell_type": "code",
   "execution_count": 11,
   "metadata": {},
   "outputs": [],
   "source": [
    "db = pymysql.connect(host = host,\n",
    "                    user = username_bbdd,\n",
    "                    password = password,\n",
    "                    port = port,\n",
    "                    database = database,\n",
    "                    cursorclass = pymysql.cursors.DictCursor)\n",
    "\n",
    "cursor = db.cursor()\n",
    "\n",
    "\n",
    "insert_data = '''DELETE FROM tweets'''\n",
    "cursor.execute(insert_data)\n",
    "# db.commit()\n",
    "\n",
    "insert_data = '''DELETE FROM users_tweet'''\n",
    "cursor.execute(insert_data)\n",
    "\n",
    "db.commit()\n",
    "db.close()"
   ]
  },
  {
   "attachments": {},
   "cell_type": "markdown",
   "metadata": {},
   "source": [
    "### Insertamos los datos en las tablas"
   ]
  },
  {
   "cell_type": "code",
   "execution_count": 10,
   "metadata": {},
   "outputs": [],
   "source": [
    "# df_insert = df\n",
    "# insert_db(df_insert['id_message'], df_insert['text'], df_insert['created_at'], df_insert['author_id'], df_insert['name'], df_insert['username'], df_insert['retweet_count'], df_insert['reply_count'], df_insert['like_count'], df_insert['quote_count'], df_insert['impression_count'])"
   ]
  },
  {
   "cell_type": "code",
   "execution_count": 10,
   "metadata": {},
   "outputs": [],
   "source": [
    "df_tweets = df[['id_message', 'text', 'created_at', 'author_id', 'retweet_count', 'reply_count', 'like_count', 'quote_count', 'impression_count']]\n",
    "df_users = df[['author_id', 'name', 'username']]"
   ]
  },
  {
   "cell_type": "code",
   "execution_count": 11,
   "metadata": {},
   "outputs": [],
   "source": [
    "# df_users.duplicated(subset='author_id').value_counts()\n",
    "df_users.drop_duplicates(subset='author_id', inplace=True)"
   ]
  },
  {
   "cell_type": "code",
   "execution_count": 12,
   "metadata": {},
   "outputs": [],
   "source": [
    "db = pymysql.connect(host = host,\n",
    "                        user = username_bbdd,\n",
    "                        password = password,\n",
    "                        port = port,\n",
    "                        database = database,\n",
    "                        cursorclass = pymysql.cursors.DictCursor\n",
    "                        )\n",
    "\n",
    "cursor = db.cursor()"
   ]
  },
  {
   "cell_type": "code",
   "execution_count": 28,
   "metadata": {},
   "outputs": [],
   "source": [
    "# Creación de una lista de columnas para la inserción\n",
    "cols_tweets = \"`,`\".join([str(i) for i in df_tweets.columns.tolist()])\n",
    "cols_users = \"`,`\".join([str(i) for i in df_users.columns.tolist()])\n",
    "\n",
    "# Inserta las filas del DataFrame uno a uno\n",
    "for i, row in df_tweets.iterrows():\n",
    "    sql = \"INSERT INTO `tweets` (`\" +cols_tweets + \"`) VALUES (\" + \"%s,\"*(len(row)-1) + \"%s)\"\n",
    "    cursor.execute(sql, tuple(row))\n",
    "    db.commit()\n",
    "\n",
    "for i, row in df_users.iterrows():\n",
    "    sql = \"INSERT INTO `users_tweet` (`\" +cols_users + \"`) VALUES (\" + \"%s,\"*(len(row)-1) + \"%s)\"\n",
    "    cursor.execute(sql, tuple(row))\n",
    "    db.commit()\n",
    "\n",
    "db.close()"
   ]
  },
  {
   "attachments": {},
   "cell_type": "markdown",
   "metadata": {},
   "source": [
    "### Mostramos los datos en un df"
   ]
  },
  {
   "cell_type": "code",
   "execution_count": 12,
   "metadata": {},
   "outputs": [],
   "source": [
    "db = pymysql.connect(host = host,\n",
    "                     user = username_bbdd,\n",
    "                     password = password,\n",
    "                     port = port,\n",
    "                     database = database,\n",
    "                     cursorclass = pymysql.cursors.DictCursor\n",
    ")\n",
    "\n",
    "cursor = db.cursor()"
   ]
  },
  {
   "cell_type": "code",
   "execution_count": 14,
   "metadata": {},
   "outputs": [
    {
     "name": "stdout",
     "output_type": "stream",
     "text": [
      "MySQL version: {'VERSION()': '8.0.28'}\n"
     ]
    }
   ],
   "source": [
    "cursor.execute('SELECT VERSION()')\n",
    "version = cursor.fetchone()\n",
    "print(f'MySQL version: {version}')"
   ]
  },
  {
   "cell_type": "code",
   "execution_count": 16,
   "metadata": {},
   "outputs": [],
   "source": [
    "# use_db = ''' USE tweets_bbdd'''\n",
    "# cursor.execute(use_db)"
   ]
  },
  {
   "cell_type": "code",
   "execution_count": 15,
   "metadata": {},
   "outputs": [
    {
     "data": {
      "text/html": [
       "<div>\n",
       "<style scoped>\n",
       "    .dataframe tbody tr th:only-of-type {\n",
       "        vertical-align: middle;\n",
       "    }\n",
       "\n",
       "    .dataframe tbody tr th {\n",
       "        vertical-align: top;\n",
       "    }\n",
       "\n",
       "    .dataframe thead th {\n",
       "        text-align: right;\n",
       "    }\n",
       "</style>\n",
       "<table border=\"1\" class=\"dataframe\">\n",
       "  <thead>\n",
       "    <tr style=\"text-align: right;\">\n",
       "      <th></th>\n",
       "      <th>id_message</th>\n",
       "      <th>text</th>\n",
       "      <th>created_at</th>\n",
       "      <th>author_id</th>\n",
       "      <th>retweet_count</th>\n",
       "      <th>reply_count</th>\n",
       "      <th>like_count</th>\n",
       "      <th>quote_count</th>\n",
       "      <th>impression_count</th>\n",
       "    </tr>\n",
       "  </thead>\n",
       "  <tbody>\n",
       "    <tr>\n",
       "      <th>0</th>\n",
       "      <td>1594964278238654471</td>\n",
       "      <td>Aprende hoy las profesiones del futuro, ¡inscr...</td>\n",
       "      <td>2022-11-22 08:01:31+00:00</td>\n",
       "      <td>702077405045899264</td>\n",
       "      <td>2</td>\n",
       "      <td>0</td>\n",
       "      <td>2</td>\n",
       "      <td>0</td>\n",
       "      <td>0</td>\n",
       "    </tr>\n",
       "    <tr>\n",
       "      <th>1</th>\n",
       "      <td>1594965197613322241</td>\n",
       "      <td>Ikasi gaur etorkizuneko lanbideak, izena eman ...</td>\n",
       "      <td>2022-11-22 08:05:10+00:00</td>\n",
       "      <td>702077405045899264</td>\n",
       "      <td>1</td>\n",
       "      <td>0</td>\n",
       "      <td>2</td>\n",
       "      <td>0</td>\n",
       "      <td>0</td>\n",
       "    </tr>\n",
       "    <tr>\n",
       "      <th>2</th>\n",
       "      <td>1594968601265586178</td>\n",
       "      <td>Acelerando juntos el #talentodigital en España...</td>\n",
       "      <td>2022-11-22 08:18:42+00:00</td>\n",
       "      <td>783248945761910788</td>\n",
       "      <td>1</td>\n",
       "      <td>1</td>\n",
       "      <td>3</td>\n",
       "      <td>0</td>\n",
       "      <td>0</td>\n",
       "    </tr>\n",
       "    <tr>\n",
       "      <th>3</th>\n",
       "      <td>1595359906747617280</td>\n",
       "      <td>¡Ven a conocer los BBK bootcamps powered by @T...</td>\n",
       "      <td>2022-11-23 10:13:36+00:00</td>\n",
       "      <td>1162694149956603904</td>\n",
       "      <td>4</td>\n",
       "      <td>0</td>\n",
       "      <td>3</td>\n",
       "      <td>0</td>\n",
       "      <td>0</td>\n",
       "    </tr>\n",
       "    <tr>\n",
       "      <th>4</th>\n",
       "      <td>1595752907684843520</td>\n",
       "      <td>🔵Acelera tu carrera digital con #BBKBootcamps....</td>\n",
       "      <td>2022-11-24 12:15:15+00:00</td>\n",
       "      <td>823470817963032576</td>\n",
       "      <td>3</td>\n",
       "      <td>0</td>\n",
       "      <td>4</td>\n",
       "      <td>0</td>\n",
       "      <td>0</td>\n",
       "    </tr>\n",
       "    <tr>\n",
       "      <th>...</th>\n",
       "      <td>...</td>\n",
       "      <td>...</td>\n",
       "      <td>...</td>\n",
       "      <td>...</td>\n",
       "      <td>...</td>\n",
       "      <td>...</td>\n",
       "      <td>...</td>\n",
       "      <td>...</td>\n",
       "      <td>...</td>\n",
       "    </tr>\n",
       "    <tr>\n",
       "      <th>144</th>\n",
       "      <td>1632147141224275970</td>\n",
       "      <td>@nodosenlared @snowded @TheBridge_Tech Muy bue...</td>\n",
       "      <td>2023-03-04 22:32:56+00:00</td>\n",
       "      <td>925597948410580993</td>\n",
       "      <td>0</td>\n",
       "      <td>0</td>\n",
       "      <td>1</td>\n",
       "      <td>0</td>\n",
       "      <td>35</td>\n",
       "    </tr>\n",
       "    <tr>\n",
       "      <th>145</th>\n",
       "      <td>1632664546665025536</td>\n",
       "      <td>Encuentro de la @mlopscommunity en Madrid: \"ML...</td>\n",
       "      <td>2023-03-06 08:48:56+00:00</td>\n",
       "      <td>41545659</td>\n",
       "      <td>1</td>\n",
       "      <td>0</td>\n",
       "      <td>3</td>\n",
       "      <td>0</td>\n",
       "      <td>90</td>\n",
       "    </tr>\n",
       "    <tr>\n",
       "      <th>146</th>\n",
       "      <td>1632692120719859712</td>\n",
       "      <td>¡Por fin podemos publicar el cartel con los po...</td>\n",
       "      <td>2023-03-06 10:38:30+00:00</td>\n",
       "      <td>1585726199485140993</td>\n",
       "      <td>3</td>\n",
       "      <td>1</td>\n",
       "      <td>5</td>\n",
       "      <td>1</td>\n",
       "      <td>950</td>\n",
       "    </tr>\n",
       "    <tr>\n",
       "      <th>147</th>\n",
       "      <td>1632692123412594688</td>\n",
       "      <td>Las inscripciones se realizarán por Eventbrite...</td>\n",
       "      <td>2023-03-06 10:38:30+00:00</td>\n",
       "      <td>1585726199485140993</td>\n",
       "      <td>0</td>\n",
       "      <td>0</td>\n",
       "      <td>0</td>\n",
       "      <td>0</td>\n",
       "      <td>31</td>\n",
       "    </tr>\n",
       "    <tr>\n",
       "      <th>148</th>\n",
       "      <td>1633154604018876416</td>\n",
       "      <td>¡Hola #dataholics! La primavera trompetera se ...</td>\n",
       "      <td>2023-03-07 17:16:14+00:00</td>\n",
       "      <td>936539844079218688</td>\n",
       "      <td>3</td>\n",
       "      <td>0</td>\n",
       "      <td>8</td>\n",
       "      <td>1</td>\n",
       "      <td>357</td>\n",
       "    </tr>\n",
       "  </tbody>\n",
       "</table>\n",
       "<p>149 rows × 9 columns</p>\n",
       "</div>"
      ],
      "text/plain": [
       "              id_message                                               text  \\\n",
       "0    1594964278238654471  Aprende hoy las profesiones del futuro, ¡inscr...   \n",
       "1    1594965197613322241  Ikasi gaur etorkizuneko lanbideak, izena eman ...   \n",
       "2    1594968601265586178  Acelerando juntos el #talentodigital en España...   \n",
       "3    1595359906747617280  ¡Ven a conocer los BBK bootcamps powered by @T...   \n",
       "4    1595752907684843520  🔵Acelera tu carrera digital con #BBKBootcamps....   \n",
       "..                   ...                                                ...   \n",
       "144  1632147141224275970  @nodosenlared @snowded @TheBridge_Tech Muy bue...   \n",
       "145  1632664546665025536  Encuentro de la @mlopscommunity en Madrid: \"ML...   \n",
       "146  1632692120719859712  ¡Por fin podemos publicar el cartel con los po...   \n",
       "147  1632692123412594688  Las inscripciones se realizarán por Eventbrite...   \n",
       "148  1633154604018876416  ¡Hola #dataholics! La primavera trompetera se ...   \n",
       "\n",
       "                    created_at            author_id  retweet_count  \\\n",
       "0    2022-11-22 08:01:31+00:00   702077405045899264              2   \n",
       "1    2022-11-22 08:05:10+00:00   702077405045899264              1   \n",
       "2    2022-11-22 08:18:42+00:00   783248945761910788              1   \n",
       "3    2022-11-23 10:13:36+00:00  1162694149956603904              4   \n",
       "4    2022-11-24 12:15:15+00:00   823470817963032576              3   \n",
       "..                         ...                  ...            ...   \n",
       "144  2023-03-04 22:32:56+00:00   925597948410580993              0   \n",
       "145  2023-03-06 08:48:56+00:00             41545659              1   \n",
       "146  2023-03-06 10:38:30+00:00  1585726199485140993              3   \n",
       "147  2023-03-06 10:38:30+00:00  1585726199485140993              0   \n",
       "148  2023-03-07 17:16:14+00:00   936539844079218688              3   \n",
       "\n",
       "     reply_count  like_count  quote_count  impression_count  \n",
       "0              0           2            0                 0  \n",
       "1              0           2            0                 0  \n",
       "2              1           3            0                 0  \n",
       "3              0           3            0                 0  \n",
       "4              0           4            0                 0  \n",
       "..           ...         ...          ...               ...  \n",
       "144            0           1            0                35  \n",
       "145            0           3            0                90  \n",
       "146            1           5            1               950  \n",
       "147            0           0            0                31  \n",
       "148            0           8            1               357  \n",
       "\n",
       "[149 rows x 9 columns]"
      ]
     },
     "execution_count": 15,
     "metadata": {},
     "output_type": "execute_result"
    }
   ],
   "source": [
    "sql = '''SELECT * FROM tweets'''\n",
    "cursor.execute(sql)\n",
    "tweets = cursor.fetchall()\n",
    "pd.DataFrame(tweets)"
   ]
  },
  {
   "cell_type": "code",
   "execution_count": 16,
   "metadata": {},
   "outputs": [
    {
     "data": {
      "text/html": [
       "<div>\n",
       "<style scoped>\n",
       "    .dataframe tbody tr th:only-of-type {\n",
       "        vertical-align: middle;\n",
       "    }\n",
       "\n",
       "    .dataframe tbody tr th {\n",
       "        vertical-align: top;\n",
       "    }\n",
       "\n",
       "    .dataframe thead th {\n",
       "        text-align: right;\n",
       "    }\n",
       "</style>\n",
       "<table border=\"1\" class=\"dataframe\">\n",
       "  <thead>\n",
       "    <tr style=\"text-align: right;\">\n",
       "      <th></th>\n",
       "      <th>author_id</th>\n",
       "      <th>name</th>\n",
       "      <th>username</th>\n",
       "    </tr>\n",
       "  </thead>\n",
       "  <tbody>\n",
       "    <tr>\n",
       "      <th>0</th>\n",
       "      <td>1003872445</td>\n",
       "      <td>Pau Mugarra</td>\n",
       "      <td>PauMugarra</td>\n",
       "    </tr>\n",
       "    <tr>\n",
       "      <th>1</th>\n",
       "      <td>10279282</td>\n",
       "      <td>Jesús Pérez Serna</td>\n",
       "      <td>mkpositivo</td>\n",
       "    </tr>\n",
       "    <tr>\n",
       "      <th>2</th>\n",
       "      <td>106344840</td>\n",
       "      <td>Cámara de Comercio d</td>\n",
       "      <td>camaradesevilla</td>\n",
       "    </tr>\n",
       "    <tr>\n",
       "      <th>3</th>\n",
       "      <td>1065627197115981824</td>\n",
       "      <td>AQUADAT</td>\n",
       "      <td>Aqua_Radar</td>\n",
       "    </tr>\n",
       "    <tr>\n",
       "      <th>4</th>\n",
       "      <td>1068424025356021760</td>\n",
       "      <td>🐣 Ari 🐙</td>\n",
       "      <td>Ari_Reinventada</td>\n",
       "    </tr>\n",
       "    <tr>\n",
       "      <th>...</th>\n",
       "      <td>...</td>\n",
       "      <td>...</td>\n",
       "      <td>...</td>\n",
       "    </tr>\n",
       "    <tr>\n",
       "      <th>59</th>\n",
       "      <td>874916978665938945</td>\n",
       "      <td>Startup Valencia</td>\n",
       "      <td>Startup_VLC</td>\n",
       "    </tr>\n",
       "    <tr>\n",
       "      <th>60</th>\n",
       "      <td>91876265</td>\n",
       "      <td>Diana Damas (ella/sh</td>\n",
       "      <td>ddamasd</td>\n",
       "    </tr>\n",
       "    <tr>\n",
       "      <th>61</th>\n",
       "      <td>921670812637257728</td>\n",
       "      <td>VLC Tech City</td>\n",
       "      <td>VLCTechCity</td>\n",
       "    </tr>\n",
       "    <tr>\n",
       "      <th>62</th>\n",
       "      <td>925597948410580993</td>\n",
       "      <td>Valerio Rocco Lozano</td>\n",
       "      <td>RoccoLozano</td>\n",
       "    </tr>\n",
       "    <tr>\n",
       "      <th>63</th>\n",
       "      <td>936539844079218688</td>\n",
       "      <td>DatabeerSVQ</td>\n",
       "      <td>DatabeerSVQ</td>\n",
       "    </tr>\n",
       "  </tbody>\n",
       "</table>\n",
       "<p>64 rows × 3 columns</p>\n",
       "</div>"
      ],
      "text/plain": [
       "              author_id                  name         username\n",
       "0            1003872445           Pau Mugarra       PauMugarra\n",
       "1              10279282     Jesús Pérez Serna       mkpositivo\n",
       "2             106344840  Cámara de Comercio d  camaradesevilla\n",
       "3   1065627197115981824               AQUADAT       Aqua_Radar\n",
       "4   1068424025356021760               🐣 Ari 🐙  Ari_Reinventada\n",
       "..                  ...                   ...              ...\n",
       "59   874916978665938945      Startup Valencia      Startup_VLC\n",
       "60             91876265  Diana Damas (ella/sh          ddamasd\n",
       "61   921670812637257728         VLC Tech City      VLCTechCity\n",
       "62   925597948410580993  Valerio Rocco Lozano      RoccoLozano\n",
       "63   936539844079218688           DatabeerSVQ      DatabeerSVQ\n",
       "\n",
       "[64 rows x 3 columns]"
      ]
     },
     "execution_count": 16,
     "metadata": {},
     "output_type": "execute_result"
    }
   ],
   "source": [
    "sql = '''SELECT * FROM users_tweet'''\n",
    "cursor.execute(sql)\n",
    "users_tweet = cursor.fetchall()\n",
    "pd.DataFrame(users_tweet)"
   ]
  },
  {
   "cell_type": "code",
   "execution_count": 17,
   "metadata": {},
   "outputs": [],
   "source": [
    "# Cerramos la conexión a la bbdd\n",
    "db.close()"
   ]
  },
  {
   "attachments": {},
   "cell_type": "markdown",
   "metadata": {},
   "source": [
    "### ANALISIS EXPLORATORIO DE DATOS"
   ]
  },
  {
   "cell_type": "code",
   "execution_count": 18,
   "metadata": {},
   "outputs": [
    {
     "name": "stdout",
     "output_type": "stream",
     "text": [
      "<class 'pandas.core.frame.DataFrame'>\n",
      "Int64Index: 149 entries, 0 to 88\n",
      "Data columns (total 11 columns):\n",
      " #   Column            Non-Null Count  Dtype              \n",
      "---  ------            --------------  -----              \n",
      " 0   id_message        149 non-null    object             \n",
      " 1   text              149 non-null    object             \n",
      " 2   created_at        149 non-null    datetime64[ns, UTC]\n",
      " 3   author_id         149 non-null    object             \n",
      " 4   name              149 non-null    object             \n",
      " 5   username          149 non-null    object             \n",
      " 6   retweet_count     149 non-null    int64              \n",
      " 7   reply_count       149 non-null    int64              \n",
      " 8   like_count        149 non-null    int64              \n",
      " 9   quote_count       149 non-null    int64              \n",
      " 10  impression_count  149 non-null    int64              \n",
      "dtypes: datetime64[ns, UTC](1), int64(5), object(5)\n",
      "memory usage: 14.0+ KB\n"
     ]
    }
   ],
   "source": [
    "df.info()"
   ]
  },
  {
   "cell_type": "code",
   "execution_count": 19,
   "metadata": {},
   "outputs": [
    {
     "data": {
      "text/html": [
       "<div>\n",
       "<style scoped>\n",
       "    .dataframe tbody tr th:only-of-type {\n",
       "        vertical-align: middle;\n",
       "    }\n",
       "\n",
       "    .dataframe tbody tr th {\n",
       "        vertical-align: top;\n",
       "    }\n",
       "\n",
       "    .dataframe thead th {\n",
       "        text-align: right;\n",
       "    }\n",
       "</style>\n",
       "<table border=\"1\" class=\"dataframe\">\n",
       "  <thead>\n",
       "    <tr style=\"text-align: right;\">\n",
       "      <th></th>\n",
       "      <th>retweet_count</th>\n",
       "      <th>reply_count</th>\n",
       "      <th>like_count</th>\n",
       "      <th>quote_count</th>\n",
       "      <th>impression_count</th>\n",
       "    </tr>\n",
       "  </thead>\n",
       "  <tbody>\n",
       "    <tr>\n",
       "      <th>count</th>\n",
       "      <td>149.000000</td>\n",
       "      <td>149.000000</td>\n",
       "      <td>149.000000</td>\n",
       "      <td>149.000000</td>\n",
       "      <td>149.000000</td>\n",
       "    </tr>\n",
       "    <tr>\n",
       "      <th>mean</th>\n",
       "      <td>1.563758</td>\n",
       "      <td>0.295302</td>\n",
       "      <td>5.449664</td>\n",
       "      <td>0.167785</td>\n",
       "      <td>1732.617450</td>\n",
       "    </tr>\n",
       "    <tr>\n",
       "      <th>std</th>\n",
       "      <td>4.236779</td>\n",
       "      <td>0.775498</td>\n",
       "      <td>26.302923</td>\n",
       "      <td>0.537797</td>\n",
       "      <td>18487.232284</td>\n",
       "    </tr>\n",
       "    <tr>\n",
       "      <th>min</th>\n",
       "      <td>0.000000</td>\n",
       "      <td>0.000000</td>\n",
       "      <td>0.000000</td>\n",
       "      <td>0.000000</td>\n",
       "      <td>0.000000</td>\n",
       "    </tr>\n",
       "    <tr>\n",
       "      <th>25%</th>\n",
       "      <td>0.000000</td>\n",
       "      <td>0.000000</td>\n",
       "      <td>1.000000</td>\n",
       "      <td>0.000000</td>\n",
       "      <td>0.000000</td>\n",
       "    </tr>\n",
       "    <tr>\n",
       "      <th>50%</th>\n",
       "      <td>1.000000</td>\n",
       "      <td>0.000000</td>\n",
       "      <td>3.000000</td>\n",
       "      <td>0.000000</td>\n",
       "      <td>58.000000</td>\n",
       "    </tr>\n",
       "    <tr>\n",
       "      <th>75%</th>\n",
       "      <td>2.000000</td>\n",
       "      <td>0.000000</td>\n",
       "      <td>4.000000</td>\n",
       "      <td>0.000000</td>\n",
       "      <td>218.000000</td>\n",
       "    </tr>\n",
       "    <tr>\n",
       "      <th>max</th>\n",
       "      <td>49.000000</td>\n",
       "      <td>7.000000</td>\n",
       "      <td>321.000000</td>\n",
       "      <td>4.000000</td>\n",
       "      <td>225761.000000</td>\n",
       "    </tr>\n",
       "  </tbody>\n",
       "</table>\n",
       "</div>"
      ],
      "text/plain": [
       "       retweet_count  reply_count  like_count  quote_count  impression_count\n",
       "count     149.000000   149.000000  149.000000   149.000000        149.000000\n",
       "mean        1.563758     0.295302    5.449664     0.167785       1732.617450\n",
       "std         4.236779     0.775498   26.302923     0.537797      18487.232284\n",
       "min         0.000000     0.000000    0.000000     0.000000          0.000000\n",
       "25%         0.000000     0.000000    1.000000     0.000000          0.000000\n",
       "50%         1.000000     0.000000    3.000000     0.000000         58.000000\n",
       "75%         2.000000     0.000000    4.000000     0.000000        218.000000\n",
       "max        49.000000     7.000000  321.000000     4.000000     225761.000000"
      ]
     },
     "execution_count": 19,
     "metadata": {},
     "output_type": "execute_result"
    }
   ],
   "source": [
    "df.describe()"
   ]
  },
  {
   "cell_type": "code",
   "execution_count": 20,
   "metadata": {},
   "outputs": [],
   "source": [
    "pd.set_option('max_colwidth', None)"
   ]
  },
  {
   "cell_type": "code",
   "execution_count": 21,
   "metadata": {},
   "outputs": [
    {
     "data": {
      "text/html": [
       "<div>\n",
       "<style scoped>\n",
       "    .dataframe tbody tr th:only-of-type {\n",
       "        vertical-align: middle;\n",
       "    }\n",
       "\n",
       "    .dataframe tbody tr th {\n",
       "        vertical-align: top;\n",
       "    }\n",
       "\n",
       "    .dataframe thead th {\n",
       "        text-align: right;\n",
       "    }\n",
       "</style>\n",
       "<table border=\"1\" class=\"dataframe\">\n",
       "  <thead>\n",
       "    <tr style=\"text-align: right;\">\n",
       "      <th></th>\n",
       "      <th>id_message</th>\n",
       "      <th>text</th>\n",
       "      <th>created_at</th>\n",
       "      <th>author_id</th>\n",
       "      <th>name</th>\n",
       "      <th>username</th>\n",
       "      <th>retweet_count</th>\n",
       "      <th>reply_count</th>\n",
       "      <th>like_count</th>\n",
       "      <th>quote_count</th>\n",
       "      <th>impression_count</th>\n",
       "    </tr>\n",
       "  </thead>\n",
       "  <tbody>\n",
       "    <tr>\n",
       "      <th>0</th>\n",
       "      <td>1608502937332113408</td>\n",
       "      <td>Empieza el año formándote en una de las profesiones con más 𝗱𝗲𝗺𝗮𝗻𝗱𝗮 𝗹𝗮𝗯𝗼𝗿𝗮𝗹. ⚠\\n\\nToma las riendas del 2023 y vente el 12/01 al Open Day donde te contaremos todo sobre los Bootcamps que te cambiarán la vida junto a @TheBridge_Tech. 🤯\\n\\nhttps://t.co/RnAcI6FUzc</td>\n",
       "      <td>2022-12-29 16:39:19+00:00</td>\n",
       "      <td>1151510939105144834</td>\n",
       "      <td>EDEM universitarios</td>\n",
       "      <td>EDEM_uni</td>\n",
       "      <td>1</td>\n",
       "      <td>0</td>\n",
       "      <td>4</td>\n",
       "      <td>0</td>\n",
       "      <td>113</td>\n",
       "    </tr>\n",
       "    <tr>\n",
       "      <th>1</th>\n",
       "      <td>1608445776732246017</td>\n",
       "      <td>Los 4 bootcamps tecnológicos de EDEM y @TheBridge_Tech en los empleos más demandados 🔝\\n\\n▶ Data Science\\n▶ Desarrollo Web Full Stack\\n▶ UX/UI Product Design\\n▶ Ciberseguridad\\n\\nToda la info ⬇\\nhttps://t.co/hXDfJnLKPl</td>\n",
       "      <td>2022-12-29 12:52:11+00:00</td>\n",
       "      <td>570795448</td>\n",
       "      <td>EDEM</td>\n",
       "      <td>EDEMempresarios</td>\n",
       "      <td>0</td>\n",
       "      <td>0</td>\n",
       "      <td>2</td>\n",
       "      <td>0</td>\n",
       "      <td>124</td>\n",
       "    </tr>\n",
       "    <tr>\n",
       "      <th>2</th>\n",
       "      <td>1607662809575292929</td>\n",
       "      <td>Si estás buscando una profesión que te cambie la vida, acércate a nuestro Open Day donde presentaremos la alianza #EDEMpoweredbyTheBridge @TheBridge_Tech, una serie de bootcamps de desarrollo digital y tecnológico.\\n\\nhttps://t.co/NXRiXndJAD https://t.co/76bmkSVtzc</td>\n",
       "      <td>2022-12-27 09:00:57+00:00</td>\n",
       "      <td>570795448</td>\n",
       "      <td>EDEM</td>\n",
       "      <td>EDEMempresarios</td>\n",
       "      <td>0</td>\n",
       "      <td>0</td>\n",
       "      <td>5</td>\n",
       "      <td>0</td>\n",
       "      <td>218</td>\n",
       "    </tr>\n",
       "    <tr>\n",
       "      <th>3</th>\n",
       "      <td>1605506556123963392</td>\n",
       "      <td>#EDEMpoweredbyTheBridge la revolución formativa en tecnología.🤯 \\n\\n@TheBridge_Tech y #EDEM nos unimos para formar en profesiones que cambiarán vidas.\\n \\nEspecialízate en 4 #bootcamps intensivos sobre tecnología. 👩‍💻\\n \\nEste es el inicio del cambio. 👉 https://t.co/uobTtpxxaO https://t.co/AwJJ0mSHhY</td>\n",
       "      <td>2022-12-21 10:12:46+00:00</td>\n",
       "      <td>570795448</td>\n",
       "      <td>EDEM</td>\n",
       "      <td>EDEMempresarios</td>\n",
       "      <td>3</td>\n",
       "      <td>0</td>\n",
       "      <td>6</td>\n",
       "      <td>0</td>\n",
       "      <td>329</td>\n",
       "    </tr>\n",
       "    <tr>\n",
       "      <th>4</th>\n",
       "      <td>1608391421014196224</td>\n",
       "      <td>@EDEMempresarios acoge el 12 de enero un Open Day en el que participan responsables de @TheBridge_Tech y de @EDEMempresarios para presentar los 4 bootcamps que acercarán a sus alumnos a profesiones con alta demanda \\n\\nhttps://t.co/ICzciLvWBo</td>\n",
       "      <td>2022-12-29 09:16:11+00:00</td>\n",
       "      <td>1128860148</td>\n",
       "      <td>Economía 3</td>\n",
       "      <td>Economia_3</td>\n",
       "      <td>0</td>\n",
       "      <td>0</td>\n",
       "      <td>2</td>\n",
       "      <td>0</td>\n",
       "      <td>49</td>\n",
       "    </tr>\n",
       "  </tbody>\n",
       "</table>\n",
       "</div>"
      ],
      "text/plain": [
       "            id_message  \\\n",
       "0  1608502937332113408   \n",
       "1  1608445776732246017   \n",
       "2  1607662809575292929   \n",
       "3  1605506556123963392   \n",
       "4  1608391421014196224   \n",
       "\n",
       "                                                                                                                                                                                                                                                                                                            text  \\\n",
       "0                                           Empieza el año formándote en una de las profesiones con más 𝗱𝗲𝗺𝗮𝗻𝗱𝗮 𝗹𝗮𝗯𝗼𝗿𝗮𝗹. ⚠\\n\\nToma las riendas del 2023 y vente el 12/01 al Open Day donde te contaremos todo sobre los Bootcamps que te cambiarán la vida junto a @TheBridge_Tech. 🤯\\n\\nhttps://t.co/RnAcI6FUzc   \n",
       "1                                                                                     Los 4 bootcamps tecnológicos de EDEM y @TheBridge_Tech en los empleos más demandados 🔝\\n\\n▶ Data Science\\n▶ Desarrollo Web Full Stack\\n▶ UX/UI Product Design\\n▶ Ciberseguridad\\n\\nToda la info ⬇\\nhttps://t.co/hXDfJnLKPl   \n",
       "2                                      Si estás buscando una profesión que te cambie la vida, acércate a nuestro Open Day donde presentaremos la alianza #EDEMpoweredbyTheBridge @TheBridge_Tech, una serie de bootcamps de desarrollo digital y tecnológico.\\n\\nhttps://t.co/NXRiXndJAD https://t.co/76bmkSVtzc   \n",
       "3  #EDEMpoweredbyTheBridge la revolución formativa en tecnología.🤯 \\n\\n@TheBridge_Tech y #EDEM nos unimos para formar en profesiones que cambiarán vidas.\\n \\nEspecialízate en 4 #bootcamps intensivos sobre tecnología. 👩‍💻\\n \\nEste es el inicio del cambio. 👉 https://t.co/uobTtpxxaO https://t.co/AwJJ0mSHhY   \n",
       "4                                                             @EDEMempresarios acoge el 12 de enero un Open Day en el que participan responsables de @TheBridge_Tech y de @EDEMempresarios para presentar los 4 bootcamps que acercarán a sus alumnos a profesiones con alta demanda \\n\\nhttps://t.co/ICzciLvWBo   \n",
       "\n",
       "                 created_at            author_id                 name  \\\n",
       "0 2022-12-29 16:39:19+00:00  1151510939105144834  EDEM universitarios   \n",
       "1 2022-12-29 12:52:11+00:00            570795448                 EDEM   \n",
       "2 2022-12-27 09:00:57+00:00            570795448                 EDEM   \n",
       "3 2022-12-21 10:12:46+00:00            570795448                 EDEM   \n",
       "4 2022-12-29 09:16:11+00:00           1128860148           Economía 3   \n",
       "\n",
       "          username  retweet_count  reply_count  like_count  quote_count  \\\n",
       "0         EDEM_uni              1            0           4            0   \n",
       "1  EDEMempresarios              0            0           2            0   \n",
       "2  EDEMempresarios              0            0           5            0   \n",
       "3  EDEMempresarios              3            0           6            0   \n",
       "4       Economia_3              0            0           2            0   \n",
       "\n",
       "   impression_count  \n",
       "0               113  \n",
       "1               124  \n",
       "2               218  \n",
       "3               329  \n",
       "4                49  "
      ]
     },
     "execution_count": 21,
     "metadata": {},
     "output_type": "execute_result"
    }
   ],
   "source": [
    "df.head()"
   ]
  },
  {
   "attachments": {},
   "cell_type": "markdown",
   "metadata": {},
   "source": [
    "### a. ¿Cuál es el tweet con mayor repercusión social?"
   ]
  },
  {
   "cell_type": "code",
   "execution_count": 22,
   "metadata": {},
   "outputs": [
    {
     "data": {
      "text/html": [
       "<div>\n",
       "<style scoped>\n",
       "    .dataframe tbody tr th:only-of-type {\n",
       "        vertical-align: middle;\n",
       "    }\n",
       "\n",
       "    .dataframe tbody tr th {\n",
       "        vertical-align: top;\n",
       "    }\n",
       "\n",
       "    .dataframe thead th {\n",
       "        text-align: right;\n",
       "    }\n",
       "</style>\n",
       "<table border=\"1\" class=\"dataframe\">\n",
       "  <thead>\n",
       "    <tr style=\"text-align: right;\">\n",
       "      <th></th>\n",
       "      <th>id_message</th>\n",
       "      <th>text</th>\n",
       "      <th>created_at</th>\n",
       "      <th>author_id</th>\n",
       "      <th>name</th>\n",
       "      <th>username</th>\n",
       "      <th>retweet_count</th>\n",
       "      <th>reply_count</th>\n",
       "      <th>like_count</th>\n",
       "      <th>quote_count</th>\n",
       "      <th>impression_count</th>\n",
       "      <th>count</th>\n",
       "    </tr>\n",
       "  </thead>\n",
       "  <tbody>\n",
       "    <tr>\n",
       "      <th>7</th>\n",
       "      <td>1614612463361695747</td>\n",
       "      <td>Advanced #Cynefin, Estuarine mapping &amp;amp; EUFG Masterclass (Madrid) https://t.co/H5ZSjbKHAr | Los interesados en la aplicación de las ciencias de la complejidad en nuestro país tendremos la oportunidad de aprender de @snowded en persona el 16/3/23 en la sede de @TheBridge_Tech https://t.co/LavCfgYIht</td>\n",
       "      <td>2023-01-15 13:16:23+00:00</td>\n",
       "      <td>41545659</td>\n",
       "      <td>Mario Lopez de Avila</td>\n",
       "      <td>nodosenlared</td>\n",
       "      <td>49</td>\n",
       "      <td>7</td>\n",
       "      <td>321</td>\n",
       "      <td>4</td>\n",
       "      <td>225761</td>\n",
       "      <td>381</td>\n",
       "    </tr>\n",
       "  </tbody>\n",
       "</table>\n",
       "</div>"
      ],
      "text/plain": [
       "            id_message  \\\n",
       "7  1614612463361695747   \n",
       "\n",
       "                                                                                                                                                                                                                                                                                                             text  \\\n",
       "7  Advanced #Cynefin, Estuarine mapping &amp; EUFG Masterclass (Madrid) https://t.co/H5ZSjbKHAr | Los interesados en la aplicación de las ciencias de la complejidad en nuestro país tendremos la oportunidad de aprender de @snowded en persona el 16/3/23 en la sede de @TheBridge_Tech https://t.co/LavCfgYIht   \n",
       "\n",
       "                 created_at author_id                  name      username  \\\n",
       "7 2023-01-15 13:16:23+00:00  41545659  Mario Lopez de Avila  nodosenlared   \n",
       "\n",
       "   retweet_count  reply_count  like_count  quote_count  impression_count  \\\n",
       "7             49            7         321            4            225761   \n",
       "\n",
       "   count  \n",
       "7    381  "
      ]
     },
     "execution_count": 22,
     "metadata": {},
     "output_type": "execute_result"
    }
   ],
   "source": [
    "df['count'] = df['retweet_count'] + df['reply_count'] + df['like_count'] + df['quote_count']\n",
    "\n",
    "df[df['count'] == df['count'].max()]"
   ]
  },
  {
   "attachments": {},
   "cell_type": "markdown",
   "metadata": {},
   "source": [
    "### b. ¿Cuál es el usuario que más menciona a la escuela?"
   ]
  },
  {
   "attachments": {},
   "cell_type": "markdown",
   "metadata": {},
   "source": [
    "Fundación BBK | Obra Social"
   ]
  },
  {
   "cell_type": "code",
   "execution_count": 23,
   "metadata": {},
   "outputs": [
    {
     "data": {
      "text/plain": [
       "author_id           name                         username\n",
       "702077405045899264  Fundación BBK | Obra Social  BBK_eus     22\n",
       "Name: id_message, dtype: int64"
      ]
     },
     "execution_count": 23,
     "metadata": {},
     "output_type": "execute_result"
    }
   ],
   "source": [
    "df[df['text'].str.contains('Bridge')].groupby(['author_id', 'name', 'username'])['id_message'].count().sort_values(ascending=False).head(1)"
   ]
  },
  {
   "attachments": {},
   "cell_type": "markdown",
   "metadata": {},
   "source": [
    "### c. ¿En qué mes se concentra el mayor número de tweets?"
   ]
  },
  {
   "attachments": {},
   "cell_type": "markdown",
   "metadata": {},
   "source": [
    "Enero"
   ]
  },
  {
   "cell_type": "code",
   "execution_count": 24,
   "metadata": {},
   "outputs": [
    {
     "data": {
      "text/plain": [
       "created_at\n",
       "1    54\n",
       "Name: id_message, dtype: int64"
      ]
     },
     "execution_count": 24,
     "metadata": {},
     "output_type": "execute_result"
    }
   ],
   "source": [
    "df.groupby(df['created_at'].dt.month)['id_message'].count().sort_values(ascending=False).head(1)"
   ]
  },
  {
   "cell_type": "code",
   "execution_count": 25,
   "metadata": {},
   "outputs": [
    {
     "data": {
      "image/png": "[encoded data removed]",
      "text/plain": [
       "<Figure size 640x480 with 1 Axes>"
      ]
     },
     "metadata": {},
     "output_type": "display_data"
    }
   ],
   "source": [
    "df_tweets_mes = df.groupby(df['created_at'].dt.month)['id_message'].count()\n",
    "\n",
    "# Crear la figura y los ejes\n",
    "fig, ax = plt.subplots()\n",
    "\n",
    "# Crear el gráfico de barras\n",
    "ax.bar(df_tweets_mes.index, df_tweets_mes.values)\n",
    "\n",
    "# Establecer el título y las etiquetas de los ejes\n",
    "ax.set_title(\"Cantidad de tweets por mes\")\n",
    "ax.set_xlabel(\"Mes\")\n",
    "ax.set_ylabel(\"Tweets\")\n",
    "\n",
    "# Mostrar el gráfico\n",
    "plt.show()"
   ]
  },
  {
   "attachments": {},
   "cell_type": "markdown",
   "metadata": {},
   "source": [
    "d. ¿Qué palabras son más frecuentes?"
   ]
  },
  {
   "cell_type": "code",
   "execution_count": 26,
   "metadata": {},
   "outputs": [
    {
     "data": {
      "image/png": "[encoded data removed]",
      "text/plain": [
       "<Figure size 640x480 with 1 Axes>"
      ]
     },
     "metadata": {},
     "output_type": "display_data"
    }
   ],
   "source": [
    "# Datos de las palabras y su frecuencia\n",
    "palabras = ['link', 'digital', 'bbkbootcamps', 'bootcamps', 'bbk', 'tecnolog', 'by', 'desarroll', 'present', 'cibersegur', 'ddamasd', 'bootcamp', 'madr', 'graci']\n",
    "frecuencias = [158, 38, 30, 29, 27, 22, 18, 17, 17, 16, 16, 14, 14, 14]\n",
    "\n",
    "# Crear un DataFrame con los datos\n",
    "datos = {'Palabras': palabras, 'Frecuencia': frecuencias}\n",
    "df_palabras = pd.DataFrame(data=datos)\n",
    "\n",
    "# Crear la figura y los ejes\n",
    "fig, ax = plt.subplots()\n",
    "\n",
    "# Crear el gráfico de barras horizontal con Seaborn\n",
    "sns.barplot(x='Frecuencia', y='Palabras', data=df_palabras, ax=ax)\n",
    "\n",
    "# Establecer el título y las etiquetas de los ejes\n",
    "ax.set_title(\"Frecuencia de palabras en tweets\")\n",
    "ax.set_xlabel(\"Frecuencia\")\n",
    "ax.set_ylabel(\"Palabras\")\n",
    "\n",
    "# Mostrar el gráfico\n",
    "plt.show()"
   ]
  },
  {
   "attachments": {},
   "cell_type": "markdown",
   "metadata": {},
   "source": [
    "('link', 158)\n",
    "\n",
    "('digital', 38)\n",
    "\n",
    "('bbkbootcamps', 30)\n",
    "\n",
    "('bootcamps', 29)\n",
    "\n",
    "('bbk', 27)\n",
    "\n",
    "('tecnolog', 22)\n",
    "\n",
    "('by', 18)\n",
    "\n",
    "('desarroll', 17)\n",
    "\n",
    "('present', 17)\n",
    "\n",
    "('cibersegur', 16)\n",
    "\n",
    "('ddamasd', 16)\n",
    "\n",
    "('bootcamp', 14)\n",
    "\n",
    "('madr', 14)\n",
    "\n",
    "('graci', 14)"
   ]
  },
  {
   "cell_type": "code",
   "execution_count": 27,
   "metadata": {},
   "outputs": [],
   "source": [
    "signos = re.compile(\"(\\.)|(\\;)|(\\:)|(\\!)|(\\?)|(\\¿)|(\\@)|(\\#)|(\\,)|(\\\")|(\\()|(\\))|(\\[)|(\\])|(\\d+)\")\n",
    "spanish_stopwords = set(stopwords.words('spanish'))\n",
    "\n",
    "def signs_tweets(tweet):\n",
    "    return signos.sub('', tweet.lower())\n",
    "\n",
    "def remove_links(df):\n",
    "    return \" \".join(['{link}' if ('http') in word else word for word in df.split()])\n",
    "\n",
    "def remove_stopwords(df):\n",
    "    return \" \".join([word for word in df.split() if word not in spanish_stopwords])\n",
    "\n",
    "def spanish_stemmer(x):\n",
    "    stemmer = SnowballStemmer('spanish')\n",
    "    return \" \".join([stemmer.stem(word) for word in x.split()])\n",
    "\n",
    "def remove_emojis(text):\n",
    "    return demoji.replace_with_desc(text, '')"
   ]
  },
  {
   "cell_type": "code",
   "execution_count": 28,
   "metadata": {},
   "outputs": [],
   "source": [
    "# Eliminamos signos de puntuación\n",
    "df['text'] = df['text'].apply(signs_tweets)\n",
    "\n",
    "# Eliminamos links\n",
    "df['text'] = df['text'].apply(remove_links)\n",
    "\n",
    "# Eliminamos stopwords\n",
    "df['text'] = df['text'].apply(remove_stopwords)\n",
    "\n",
    "# Aplicamos el Stemmer\n",
    "df['text'] = df['text'].apply(spanish_stemmer)\n",
    "\n",
    "# Eliminamos los emojis\n",
    "df['text'] = df['text'].apply(remove_emojis)"
   ]
  },
  {
   "cell_type": "code",
   "execution_count": 29,
   "metadata": {},
   "outputs": [
    {
     "name": "stdout",
     "output_type": "stream",
     "text": [
      "[('link', 158), ('digital', 38), ('bootcamps', 29), ('bbkbootcamps', 29), ('bbk', 27), ('tecnolog', 22), ('arrow', 21), ('right', 19), ('face', 19), ('by', 18), ('desarroll', 17), ('present', 17), ('cibersegur', 16), ('index', 16), ('pointing', 16), ('ddamasd', 16), ('bootcamp', 14), ('madr', 14), ('graci', 14), ('edemempresari', 13)]\n"
     ]
    }
   ],
   "source": [
    "palabras = [word.lower() for text in df[\"text\"] for word in word_tokenize(text) if word.lower() not in spanish_stopwords and word.isalpha()]\n",
    "\n",
    "# Cuenta la frecuencia de cada palabra\n",
    "frecuentes = Counter(palabras)\n",
    "\n",
    "# Mostramos las palabras más frecuentes\n",
    "print(frecuentes.most_common(20))"
   ]
  },
  {
   "attachments": {},
   "cell_type": "markdown",
   "metadata": {},
   "source": [
    "### e. ¿Qué tipo de correlación matemática encuentras entre las métricas públicas?"
   ]
  },
  {
   "attachments": {},
   "cell_type": "markdown",
   "metadata": {},
   "source": [
    "Like: se utilizan para indicar que te interesa un Tweet.\n",
    "\n",
    "Impresiones: cantidad de veces que a un usuario se le publica un Tweet en la cronología o en los resultados de búsqueda.\n",
    "\n",
    "Retweet: consiste en publicar nuevamente un Tweet.\n",
    "\n",
    "Reply: es cuando queremos responder al Tweet de otro usuario de forma pública.\n",
    "\n",
    "Quote: se trata básicamente de un “Retweet” con comentario, que lo separa de los tradicionales.\n",
    "\n",
    "-\n",
    "\n",
    "En general están todas relacionadas ya que es la forma en que los usuarios interactúan con los tweets.\n",
    "\n",
    "Las métricas que más correlan son los Likes con Impresiones y con Retweets. Es normal ya que si te gusta un Tweet lo lógico es que lo vuelvas a Retwittear. También es normal que salga muchas veces en las búsquedas.\n",
    "\n",
    "Las métricas que menos correlan son las Quotes y las Replys aunque tampoco es muy baja la correlación.\n",
    "\n",
    "En definitiva, la correlación matemática entre las métricas públicas de Twitter depende de varios factores y creo que pueden variar significativamente de Tweet a Tweet."
   ]
  },
  {
   "cell_type": "code",
   "execution_count": 30,
   "metadata": {},
   "outputs": [
    {
     "data": {
      "image/png": "[encoded data removed]",
      "text/plain": [
       "<Figure size 640x480 with 2 Axes>"
      ]
     },
     "metadata": {},
     "output_type": "display_data"
    }
   ],
   "source": [
    "sns.heatmap(df.corr(), annot=True);"
   ]
  },
  {
   "cell_type": "code",
   "execution_count": 31,
   "metadata": {},
   "outputs": [
    {
     "data": {
      "text/plain": [
       "<Figure size 500x500 with 0 Axes>"
      ]
     },
     "metadata": {},
     "output_type": "display_data"
    },
    {
     "data": {
      "image/png": "[encoded data removed]",
      "text/plain": [
       "<Figure size 1500x1500 with 42 Axes>"
      ]
     },
     "metadata": {},
     "output_type": "display_data"
    }
   ],
   "source": [
    "plt.figure(figsize=(5, 5))\n",
    "sns.pairplot(df,\n",
    "            kind='scatter',\n",
    "            # palette=['red', 'green']\n",
    "            );"
   ]
  },
  {
   "attachments": {},
   "cell_type": "markdown",
   "metadata": {},
   "source": [
    "### f. ¿Has sacado alguna conclusión extra en tu análisis?"
   ]
  },
  {
   "attachments": {},
   "cell_type": "markdown",
   "metadata": {},
   "source": [
    "La conclusión que saco de todo esto es que es una red social muy importante en nuestros días. Tener una cuenta de empresa en Twitter puede ser beneficioso para las empresas que buscan aumentar su visibilidad, interactuar con su audiencia, promocionar su marca y servicios, y obtener datos analíticos para mejorar su estrategia de redes sociales. Aunque requiere mucho tiempo y dedicación para poder conseguir una buena estrategia."
   ]
  },
  {
   "attachments": {},
   "cell_type": "markdown",
   "metadata": {},
   "source": [
    "### ENTRENAMIENTO"
   ]
  },
  {
   "attachments": {},
   "cell_type": "markdown",
   "metadata": {},
   "source": [
    "Utiliza el modelo pre entrenado que se te ha facilitado de análisis de sentimiento para determinar el sentimiento de los tweets. "
   ]
  },
  {
   "attachments": {},
   "cell_type": "markdown",
   "metadata": {},
   "source": [
    "### a. ¿Cuáles son las predicciones? Interpreta los resultados."
   ]
  },
  {
   "cell_type": "code",
   "execution_count": 31,
   "metadata": {},
   "outputs": [
    {
     "data": {
      "text/plain": [
       "Pipeline(steps=[('vect',\n",
       "                 CountVectorizer(max_df=0.5, max_features=1000, min_df=5,\n",
       "                                 ngram_range=(1, 2))),\n",
       "                ('cls', LogisticRegression(C=0.5))])"
      ]
     },
     "execution_count": 31,
     "metadata": {},
     "output_type": "execute_result"
    }
   ],
   "source": [
    "# Función para importar el modelo de pre-entrenado\n",
    "filename_model = 'model/sentiment_model'\n",
    "with open(filename_model, 'rb') as archivo:\n",
    "    modelo_importado = pickle.load(archivo)\n",
    "\n",
    "modelo_importado"
   ]
  },
  {
   "attachments": {},
   "cell_type": "markdown",
   "metadata": {},
   "source": [
    "El modelo utilizado para analizar los sentimientos de los tweets es un modelo de clasificación binaria basado en un algoritmo de regresión logística. Este modelo está construido con un pipeline, que combina dos etapas de preprocesamiento y modelado: un vectorizador de conteo de palabras (CountVectorizer) y un clasificador de regresión logística (LogisticRegression)."
   ]
  },
  {
   "cell_type": "code",
   "execution_count": 32,
   "metadata": {},
   "outputs": [],
   "source": [
    "tweets = df['text'].tolist()\n",
    "# tweets"
   ]
  },
  {
   "cell_type": "code",
   "execution_count": 33,
   "metadata": {},
   "outputs": [
    {
     "data": {
      "text/plain": [
       "array([1, 0, 0, 0, 0, 0, 0, 1, 1, 1, 0, 0, 1, 1, 0, 0, 0, 1, 0, 0, 1, 1,\n",
       "       0, 0, 0, 0, 0, 0, 0, 0, 0, 0, 1, 1, 1, 1, 1, 0, 0, 0, 0, 0, 1, 0,\n",
       "       1, 0, 0, 1, 0, 0, 0, 0, 0, 1, 0, 1, 0, 0, 0, 1, 0, 0, 0, 1, 0, 1,\n",
       "       0, 0, 0, 0, 0, 0, 1, 0, 0, 0, 0, 0, 1, 0, 0, 0, 0, 0, 1, 0, 0, 0,\n",
       "       0, 0, 0, 0, 0, 0, 0, 0, 0, 0, 0, 0, 0, 1, 0, 0, 0, 0, 0, 0, 1, 0,\n",
       "       0, 0, 0, 0, 0, 0, 0, 0, 0, 0, 0, 0, 0, 0, 0, 0, 0, 0, 0, 1, 0, 0,\n",
       "       0, 1, 0, 1, 1, 1, 0, 0, 1, 0, 1, 0, 0, 0, 1, 1, 1], dtype=int64)"
      ]
     },
     "execution_count": 33,
     "metadata": {},
     "output_type": "execute_result"
    }
   ],
   "source": [
    "pred = modelo_importado.predict(tweets)\n",
    "pred"
   ]
  },
  {
   "cell_type": "code",
   "execution_count": 34,
   "metadata": {},
   "outputs": [
    {
     "data": {
      "image/png": "[encoded data removed]",
      "text/plain": [
       "<Figure size 640x480 with 1 Axes>"
      ]
     },
     "metadata": {},
     "output_type": "display_data"
    }
   ],
   "source": [
    "negativos = sum(pred)\n",
    "positivos = len(pred) - negativos\n",
    "# positivos = sum(pred)\n",
    "# negativos = len(pred) - positivos\n",
    "\n",
    "total = len(pred)\n",
    "porcentaje_positivos = positivos / total * 100\n",
    "porcentaje_negativos = negativos / total * 100\n",
    "\n",
    "fig, ax = plt.subplots()\n",
    "#ax.pie([positivos, negativos], labels=['Positivos ({:.1f}%)'.format(porcentaje_positivos), 'Negativos ({:.1f}%)'.format(porcentaje_negativos)], colors=['green', 'red'], autopct='%1.1f%%')\n",
    "ax.pie([positivos, negativos], labels=['Positivos', 'Negativos'], colors=['green', 'red'], autopct='%1.1f%%')\n",
    "ax.set_title('Predicción de sentimiento de tweets')\n",
    "\n",
    "plt.show()"
   ]
  },
  {
   "attachments": {},
   "cell_type": "markdown",
   "metadata": {},
   "source": [
    "### b. ¿Qué variables son las más importantes del modelo?"
   ]
  },
  {
   "attachments": {},
   "cell_type": "markdown",
   "metadata": {},
   "source": [
    "Las variables más importantes para este modelo son las palabras que se utilizan en los tweets. Gracias al vectorizador de conteo de palabras, las palabras que aparecen con más frecuencia en los tweets pueden tener un impacto significativo en la precisión del modelo."
   ]
  },
  {
   "attachments": {},
   "cell_type": "markdown",
   "metadata": {},
   "source": [
    "### c. ¿Cómo podrías mejorar el modelo?"
   ]
  },
  {
   "attachments": {},
   "cell_type": "markdown",
   "metadata": {},
   "source": [
    "Se podrían probar diferentes valores de los parámetros del modelo, como el número de características máximas (max_features) o el rango de n-gramas (ngram_range) utilizados por el vectorizador de conteo de palabras. También se podrían probar diferentes algoritmos de clasificación, como Random Forest o Naive Bayes."
   ]
  },
  {
   "attachments": {},
   "cell_type": "markdown",
   "metadata": {},
   "source": [
    "### d. ¿Qué otras oportunidades se te ocurren donde se podrían aplicar otros modelos de ML?"
   ]
  },
  {
   "attachments": {},
   "cell_type": "markdown",
   "metadata": {},
   "source": [
    "- Predicción de la intención del cliente en campañas de Telemarketing.\n",
    "- Clasificación de spam en correos electrónicos.\n",
    "- Detección de fraude en transacciones financieras."
   ]
  }
 ],
 "metadata": {
  "kernelspec": {
   "display_name": "Python 3",
   "language": "python",
   "name": "python3"
  },
  "language_info": {
   "codemirror_mode": {
    "name": "ipython",
    "version": 3
   },
   "file_extension": ".py",
   "mimetype": "text/x-python",
   "name": "python",
   "nbconvert_exporter": "python",
   "pygments_lexer": "ipython3",
   "version": "3.7.4"
  },
  "orig_nbformat": 4
 },
 "nbformat": 4,
 "nbformat_minor": 2
}
